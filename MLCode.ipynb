{
  "nbformat": 4,
  "nbformat_minor": 0,
  "metadata": {
    "colab": {
      "provenance": []
    },
    "kernelspec": {
      "name": "python3",
      "display_name": "Python 3"
    },
    "language_info": {
      "name": "python"
    }
  },
  "cells": [
    {
      "cell_type": "markdown",
      "source": [
        "# Importing Libraries"
      ],
      "metadata": {
        "id": "GDEQd5OnF_A1"
      }
    },
    {
      "cell_type": "code",
      "execution_count": 431,
      "metadata": {
        "id": "8YnbOp6KFtsQ"
      },
      "outputs": [],
      "source": [
        "import numpy as np # linear algebra\n",
        "from sklearn.cluster import KMeans\n",
        "import pandas as pd # data processing, CSV file I/O (e.g. pd.read_csv)\n",
        "from sklearn.preprocessing import MinMaxScaler\n",
        "from matplotlib import pyplot as plt\n",
        "%matplotlib inline\n",
        "import matplotlib.pyplot as plt # for data visualization\n",
        "from sklearn.metrics import silhouette_score"
      ]
    },
    {
      "cell_type": "markdown",
      "source": [
        "# Getting The Data"
      ],
      "metadata": {
        "id": "0VVfkEz2GDa-"
      }
    },
    {
      "cell_type": "code",
      "source": [
        "df = pd.read_csv('dice_com-job_us_sample2.csv')"
      ],
      "metadata": {
        "id": "yLKy1RWUFxzS"
      },
      "execution_count": 432,
      "outputs": []
    },
    {
      "cell_type": "markdown",
      "source": [
        "# Data Preprocessing"
      ],
      "metadata": {
        "id": "lqGc-879JWKZ"
      }
    },
    {
      "cell_type": "markdown",
      "source": [
        "**Drop the unrelavent columns from the dataframe**"
      ],
      "metadata": {
        "id": "LzNqD-xkQBi6"
      }
    },
    {
      "cell_type": "code",
      "source": [
        "df.drop(['advertiserurl', 'company', 'employmenttype_jobstatus', 'jobid',\n",
        "         'postdate', 'shift', 'site_name', 'skills', 'uniq_id'], axis=1,\n",
        "        inplace=True)\n",
        "df.info()"
      ],
      "metadata": {
        "colab": {
          "base_uri": "https://localhost:8080/"
        },
        "id": "_KzeFfQ2GOA_",
        "outputId": "4f453642-432a-4612-fafd-72a7fb064354"
      },
      "execution_count": 433,
      "outputs": [
        {
          "output_type": "stream",
          "name": "stdout",
          "text": [
            "<class 'pandas.core.frame.DataFrame'>\n",
            "RangeIndex: 7574 entries, 0 to 7573\n",
            "Data columns (total 3 columns):\n",
            " #   Column               Non-Null Count  Dtype \n",
            "---  ------               --------------  ----- \n",
            " 0   jobdescription       2459 non-null   object\n",
            " 1   joblocation_address  2458 non-null   object\n",
            " 2   jobtitle             2459 non-null   object\n",
            "dtypes: object(3)\n",
            "memory usage: 177.6+ KB\n"
          ]
        }
      ]
    },
    {
      "cell_type": "markdown",
      "source": [
        "**Get the categorical variable you want to generate a pie chart for**"
      ],
      "metadata": {
        "id": "plxJgYPRQigP"
      }
    },
    {
      "cell_type": "code",
      "source": [
        "titles = df['jobtitle']\n",
        "descriptions = df['jobdescription']\n",
        "locations = df['joblocation_address']"
      ],
      "metadata": {
        "id": "tFH6K8NwGd5H"
      },
      "execution_count": 434,
      "outputs": []
    },
    {
      "cell_type": "code",
      "source": [
        "array = df['jobtitle'].astype(str).to_numpy()"
      ],
      "metadata": {
        "id": "HIYTlXHfGpzK"
      },
      "execution_count": 435,
      "outputs": []
    },
    {
      "cell_type": "markdown",
      "source": [
        "**Create an array of zeroes where each element correspond to the number of jobs asking for that element skills the elements of the array refer to SQL, Java, Python, Linux, JavaScript, AWS, C++, C, C#, .NET, Oracle, HTML, Scrum, Git, CSS, ML, Azure, Unix, SQL server, Docker**\n"
      ],
      "metadata": {
        "id": "ULkNFe2DQvKP"
      }
    },
    {
      "cell_type": "code",
      "source": [
        "skills = np.zeros(20)"
      ],
      "metadata": {
        "id": "t6C0xKWaGt9t"
      },
      "execution_count": 436,
      "outputs": []
    },
    {
      "cell_type": "markdown",
      "source": [
        "**Store the number of repeatition of each skill in the database and that is going to present the wieght of the skills. Since it was repeated many times it means it must have higher wieght**\n"
      ],
      "metadata": {
        "id": "ufvbml7cRI2F"
      }
    },
    {
      "cell_type": "code",
      "source": [
        "for x in array:\n",
        " if x.lower().find('sql') != -1:\n",
        "  skills[0] += 1\n",
        " if x.lower().find('java') != -1:\n",
        "  skills[1] += 1\n",
        " if x.lower().find('python') != -1:\n",
        "  skills[2] += 1\n",
        " if x.lower().find('linux') != -1:\n",
        "  skills[3] += 1\n",
        " if x.lower().find('javascript') != -1:\n",
        "  skills[4] += 1\n",
        " if x.lower().find('aws') != -1:\n",
        "  skills[5] += 1\n",
        " if x.lower().find('c++') != -1:\n",
        "  skills[6] += 1\n",
        " if x.lower().find('c') != -1:\n",
        "  skills[7] += 1\n",
        " if x.lower().find('c#') != -1:\n",
        "  skills[8] += 1\n",
        " if x.lower().find('.net') != -1:\n",
        "  skills[9] += 1\n",
        " if x.lower().find('oracle') != -1:\n",
        "  skills[10] += 1\n",
        " if x.lower().find('html') != -1:\n",
        "  skills[11] += 1\n",
        " if x.lower().find('scrum') != -1:\n",
        "  skills[12] += 1\n",
        " if x.lower().find('git') != -1:\n",
        "  skills[13] += 1\n",
        " if x.lower().find('css') != -1:\n",
        "  skills[14] += 1\n",
        " if x.lower().find('machine learning') != -1:\n",
        "  skills[15] += 1\n",
        " if x.lower().find('azure') != -1:\n",
        "  skills[16] += 1\n",
        " if x.lower().find('unix') != -1:\n",
        "  skills[17] += 1\n",
        " if x.lower().find('sql server') != -1:\n",
        "  skills[18] += 1\n",
        " if x.lower().find('docker') != -1:\n",
        "  skills[19] += 1"
      ],
      "metadata": {
        "id": "VnE125UbGw_G"
      },
      "execution_count": 437,
      "outputs": []
    },
    {
      "cell_type": "markdown",
      "source": [
        "scores is going to store the sum of weights of the skills of each job"
      ],
      "metadata": {
        "id": "y9vK9pmzRVpG"
      }
    },
    {
      "cell_type": "code",
      "source": [
        "scores = []\n",
        "scores = [0 for i in range(n)]"
      ],
      "metadata": {
        "id": "_n63r8zYHKoy"
      },
      "execution_count": 438,
      "outputs": []
    },
    {
      "cell_type": "markdown",
      "source": [
        "totalSkills is going to store the number of demanded skills for that job"
      ],
      "metadata": {
        "id": "s_Xrsid0Rdeg"
      }
    },
    {
      "cell_type": "code",
      "source": [
        "totalSkills = []\n",
        "totalSkills = [0 for i in range(n)]"
      ],
      "metadata": {
        "id": "szRxT9ayHNhQ"
      },
      "execution_count": 439,
      "outputs": []
    },
    {
      "cell_type": "code",
      "source": [
        "index = 0"
      ],
      "metadata": {
        "id": "kyuy-LGiRrc1"
      },
      "execution_count": 440,
      "outputs": []
    },
    {
      "cell_type": "markdown",
      "source": [
        "**Compute the scores and totalSkills for the database**"
      ],
      "metadata": {
        "id": "ynf07xvrRtUw"
      }
    },
    {
      "cell_type": "code",
      "source": [
        "for y in array:\n",
        " if y.lower().find('sql') != -1:\n",
        "  scores[index] = scores[index] + skills[0]\n",
        "  totalSkills[index] +=1\n",
        " if y.lower().find('java') != -1:\n",
        "  scores[index] = scores[index] + skills[1]\n",
        "  totalSkills[index] +=1\n",
        " if y.lower().find('python') != -1:\n",
        "  scores[index] = scores[index] + skills[2]\n",
        "  totalSkills[index] +=1\n",
        " if y.lower().find('linux') != -1:\n",
        "  scores[index] = scores[index] + skills[3]\n",
        "  totalSkills[index] +=1\n",
        " if y.lower().find('javascript') != -1:\n",
        "  scores[index] = scores[index] + skills[4]\n",
        "  totalSkills[index] +=1\n",
        " if y.lower().find('aws') != -1:\n",
        "  scores[index] = scores[index] + skills[5]\n",
        "  totalSkills[index] +=1\n",
        " if y.lower().find('c++') != -1:\n",
        "  scores[index] = scores[index] + skills[6]\n",
        "  totalSkills[index] +=1\n",
        " if y.lower().find('c') != -1:\n",
        "  scores[index] = scores[index] + skills[7]\n",
        "  totalSkills[index] +=1\n",
        " if y.lower().find('c#') != -1:\n",
        "  scores[index] = scores[index] + skills[8]\n",
        "  totalSkills[index] +=1\n",
        " if y.lower().find('.net') != -1:\n",
        "  scores[index] = scores[index] + skills[9]\n",
        "  totalSkills[index] +=1\n",
        " if y.lower().find('oracle') != -1:\n",
        "  scores[index] = scores[index] + skills[10]\n",
        "  totalSkills[index] +=1\n",
        " if y.lower().find('html') != -1:\n",
        "  scores[index] = scores[index] + skills[11]\n",
        "  totalSkills[index] +=1\n",
        " if y.lower().find('scrum') != -1:\n",
        "  scores[index] = scores[index] + skills[12]\n",
        "  totalSkills[index] +=1\n",
        " if y.lower().find('git') != -1:\n",
        "  scores[index] = scores[index] + skills[13]\n",
        "  totalSkills[index] +=1\n",
        " if y.lower().find('css') != -1:\n",
        "  scores[index] = scores[index] + skills[14]\n",
        "  totalSkills[index] +=1\n",
        " if y.lower().find('machine learning') != -1:\n",
        "  scores[index] = scores[index] + skills[15]\n",
        "  totalSkills[index] +=1\n",
        " if y.lower().find('azure') != -1:\n",
        "  scores[index] = scores[index] + skills[16]\n",
        "  totalSkills[index] +=1\n",
        " if y.lower().find('unix') != -1:\n",
        "  scores[index] = scores[index] + skills[17]\n",
        "  totalSkills[index] +=1\n",
        " if y.lower().find('sql server') != -1:\n",
        "  scores[index] = scores[index] + skills[18]\n",
        "  totalSkills[index] +=1\n",
        " if y.lower().find('docker') != -1:\n",
        "  scores[index] = scores[index] + skills[19]\n",
        "  totalSkills[index] +=1\n",
        " index +=1"
      ],
      "metadata": {
        "id": "EADWX-2gHSrv"
      },
      "execution_count": 441,
      "outputs": []
    },
    {
      "cell_type": "code",
      "source": [
        "df['scores'] = scores\n",
        "df['number_skills'] = totalSkills\n",
        "df.info()"
      ],
      "metadata": {
        "colab": {
          "base_uri": "https://localhost:8080/"
        },
        "id": "v-Ufb5G4HzyM",
        "outputId": "83126ac3-4592-48ab-e262-3d9a5c80f6a3"
      },
      "execution_count": 442,
      "outputs": [
        {
          "output_type": "stream",
          "name": "stdout",
          "text": [
            "<class 'pandas.core.frame.DataFrame'>\n",
            "RangeIndex: 7574 entries, 0 to 7573\n",
            "Data columns (total 5 columns):\n",
            " #   Column               Non-Null Count  Dtype  \n",
            "---  ------               --------------  -----  \n",
            " 0   jobdescription       2459 non-null   object \n",
            " 1   joblocation_address  2458 non-null   object \n",
            " 2   jobtitle             2459 non-null   object \n",
            " 3   scores               7574 non-null   float64\n",
            " 4   number_skills        7574 non-null   int64  \n",
            "dtypes: float64(1), int64(1), object(3)\n",
            "memory usage: 296.0+ KB\n"
          ]
        }
      ]
    },
    {
      "cell_type": "markdown",
      "source": [
        "**Inspect statical information about the data set**"
      ],
      "metadata": {
        "id": "jA_DUgl3R3lf"
      }
    },
    {
      "cell_type": "code",
      "source": [
        "print(df.describe())"
      ],
      "metadata": {
        "colab": {
          "base_uri": "https://localhost:8080/"
        },
        "id": "lDFAhETyH3dG",
        "outputId": "7bee33b2-54c3-4225-f039-67917c2a6443"
      },
      "execution_count": 443,
      "outputs": [
        {
          "output_type": "stream",
          "name": "stdout",
          "text": [
            "            scores  number_skills\n",
            "count  7574.000000    7574.000000\n",
            "mean    327.357539       0.276472\n",
            "std     637.706900       0.570764\n",
            "min       0.000000       0.000000\n",
            "25%       0.000000       0.000000\n",
            "50%       0.000000       0.000000\n",
            "75%       0.000000       0.000000\n",
            "max    1823.000000       6.000000\n"
          ]
        }
      ]
    },
    {
      "cell_type": "markdown",
      "source": [
        "# Visualizing The Data"
      ],
      "metadata": {
        "id": "yEdIR89DPie9"
      }
    },
    {
      "cell_type": "markdown",
      "source": [
        "**Plot scores vs number_skills**"
      ],
      "metadata": {
        "id": "7go2LjnWSBYK"
      }
    },
    {
      "cell_type": "code",
      "source": [
        "X = df['scores']\n",
        "Y = df['number_skills']\n",
        "plt.scatter(X,Y)"
      ],
      "metadata": {
        "colab": {
          "base_uri": "https://localhost:8080/",
          "height": 447
        },
        "id": "BnijbjTJH7aR",
        "outputId": "7a992548-ad73-4bbb-aec5-4e1bc39c7c3a"
      },
      "execution_count": 444,
      "outputs": [
        {
          "output_type": "execute_result",
          "data": {
            "text/plain": [
              "<matplotlib.collections.PathCollection at 0x7f8dd0b17220>"
            ]
          },
          "metadata": {},
          "execution_count": 444
        },
        {
          "output_type": "display_data",
          "data": {
            "text/plain": [
              "<Figure size 640x480 with 1 Axes>"
            ],
            "image/png": "[encoded data removed]"
          },
          "metadata": {}
        }
      ]
    },
    {
      "cell_type": "markdown",
      "source": [
        "**Use min-max scaler to normalize the data**"
      ],
      "metadata": {
        "id": "IV0TBXJ9U1RI"
      }
    },
    {
      "cell_type": "markdown",
      "source": [
        "The min-max scaler takes the minimum and maximum values of a given column and uses them to scale all values between 0 and 1."
      ],
      "metadata": {
        "id": "U1cpaxxMSNeX"
      }
    },
    {
      "cell_type": "code",
      "source": [
        "scaler = MinMaxScaler()\n",
        "scaler.fit(df[['scores']])\n",
        "df['scores'] = scaler.transform(df[['scores']])\n",
        "scaler.fit(df[['number_skills']])\n",
        "df['number_skills'] = scaler.transform(df[['number_skills']])"
      ],
      "metadata": {
        "id": "OlJGEC6yIFoR"
      },
      "execution_count": 445,
      "outputs": []
    },
    {
      "cell_type": "markdown",
      "source": [
        "**Plot again to visualize the distribution**"
      ],
      "metadata": {
        "id": "1glgoPqYSeeE"
      }
    },
    {
      "cell_type": "code",
      "source": [
        "plt.scatter(df.scores,df['number_skills'])"
      ],
      "metadata": {
        "colab": {
          "base_uri": "https://localhost:8080/",
          "height": 447
        },
        "id": "2TguFLPqIMiM",
        "outputId": "32f8820b-7b65-4a2e-ee96-6f4dd517ab48"
      },
      "execution_count": 446,
      "outputs": [
        {
          "output_type": "execute_result",
          "data": {
            "text/plain": [
              "<matplotlib.collections.PathCollection at 0x7f8dd0ec5cc0>"
            ]
          },
          "metadata": {},
          "execution_count": 446
        },
        {
          "output_type": "display_data",
          "data": {
            "text/plain": [
              "<Figure size 640x480 with 1 Axes>"
            ],
            "image/png": "[encoded data removed]"
          },
          "metadata": {}
        }
      ]
    },
    {
      "cell_type": "markdown",
      "source": [
        "**Use the elbow method to find the right number of clusters k**"
      ],
      "metadata": {
        "id": "HScAhWAjStS6"
      }
    },
    {
      "cell_type": "code",
      "source": [
        "sse = []\n",
        "k_rng = range(1,10)\n",
        "for K in k_rng:\n",
        " km1 = KMeans(n_clusters=K)\n",
        " km1.fit(df[['scores','number_skills']])\n",
        " sse.append(km1.inertia_)"
      ],
      "metadata": {
        "colab": {
          "base_uri": "https://localhost:8080/"
        },
        "id": "IlFRx6rRIQNG",
        "outputId": "45e0c476-9e6f-4268-8d7f-ac77964ba403"
      },
      "execution_count": 447,
      "outputs": [
        {
          "output_type": "stream",
          "name": "stderr",
          "text": [
            "/usr/local/lib/python3.10/dist-packages/sklearn/cluster/_kmeans.py:870: FutureWarning: The default value of `n_init` will change from 10 to 'auto' in 1.4. Set the value of `n_init` explicitly to suppress the warning\n",
            "  warnings.warn(\n",
            "/usr/local/lib/python3.10/dist-packages/sklearn/cluster/_kmeans.py:870: FutureWarning: The default value of `n_init` will change from 10 to 'auto' in 1.4. Set the value of `n_init` explicitly to suppress the warning\n",
            "  warnings.warn(\n",
            "/usr/local/lib/python3.10/dist-packages/sklearn/cluster/_kmeans.py:870: FutureWarning: The default value of `n_init` will change from 10 to 'auto' in 1.4. Set the value of `n_init` explicitly to suppress the warning\n",
            "  warnings.warn(\n",
            "/usr/local/lib/python3.10/dist-packages/sklearn/cluster/_kmeans.py:870: FutureWarning: The default value of `n_init` will change from 10 to 'auto' in 1.4. Set the value of `n_init` explicitly to suppress the warning\n",
            "  warnings.warn(\n",
            "/usr/local/lib/python3.10/dist-packages/sklearn/cluster/_kmeans.py:870: FutureWarning: The default value of `n_init` will change from 10 to 'auto' in 1.4. Set the value of `n_init` explicitly to suppress the warning\n",
            "  warnings.warn(\n",
            "/usr/local/lib/python3.10/dist-packages/sklearn/cluster/_kmeans.py:870: FutureWarning: The default value of `n_init` will change from 10 to 'auto' in 1.4. Set the value of `n_init` explicitly to suppress the warning\n",
            "  warnings.warn(\n",
            "/usr/local/lib/python3.10/dist-packages/sklearn/cluster/_kmeans.py:870: FutureWarning: The default value of `n_init` will change from 10 to 'auto' in 1.4. Set the value of `n_init` explicitly to suppress the warning\n",
            "  warnings.warn(\n",
            "/usr/local/lib/python3.10/dist-packages/sklearn/cluster/_kmeans.py:870: FutureWarning: The default value of `n_init` will change from 10 to 'auto' in 1.4. Set the value of `n_init` explicitly to suppress the warning\n",
            "  warnings.warn(\n",
            "/usr/local/lib/python3.10/dist-packages/sklearn/cluster/_kmeans.py:870: FutureWarning: The default value of `n_init` will change from 10 to 'auto' in 1.4. Set the value of `n_init` explicitly to suppress the warning\n",
            "  warnings.warn(\n"
          ]
        }
      ]
    },
    {
      "cell_type": "markdown",
      "source": [
        "**Plot SSE for different values of k to find the optimal k**"
      ],
      "metadata": {
        "id": "fvMLgicOTC4i"
      }
    },
    {
      "cell_type": "code",
      "source": [
        "plt.xlabel('K')\n",
        "plt.ylabel('Sum of squared error')\n",
        "plt.plot(k_rng,sse)"
      ],
      "metadata": {
        "colab": {
          "base_uri": "https://localhost:8080/",
          "height": 466
        },
        "id": "uzHpWoXaIVz_",
        "outputId": "06c56cad-f43d-4d0a-e659-c03f74ebe4ed"
      },
      "execution_count": 448,
      "outputs": [
        {
          "output_type": "execute_result",
          "data": {
            "text/plain": [
              "[<matplotlib.lines.Line2D at 0x7f8dd01508b0>]"
            ]
          },
          "metadata": {},
          "execution_count": 448
        },
        {
          "output_type": "display_data",
          "data": {
            "text/plain": [
              "<Figure size 640x480 with 1 Axes>"
            ],
            "image/png": "[encoded data removed]"
          },
          "metadata": {}
        }
      ]
    },
    {
      "cell_type": "markdown",
      "source": [
        "based on the SSE vs K plot the most optimal k is 2"
      ],
      "metadata": {
        "id": "zT1rariZIZvF"
      }
    },
    {
      "cell_type": "code",
      "source": [
        "scaler = MinMaxScaler()\n",
        "scaler.fit(df[['scores']])\n",
        "df['scores'] = scaler.transform(df[['scores']])\n",
        "scaler.fit(df[['number_skills']])\n",
        "df['number_skills'] = scaler.transform(df[['number_skills']])"
      ],
      "metadata": {
        "id": "dJh6UYNNIdEf"
      },
      "execution_count": 449,
      "outputs": []
    },
    {
      "cell_type": "markdown",
      "source": [
        "**Define a KMeans object with the value of k set to 2**"
      ],
      "metadata": {
        "id": "YNFvxhdHTUnX"
      }
    },
    {
      "cell_type": "code",
      "source": [
        "km2 = KMeans(n_clusters=2)"
      ],
      "metadata": {
        "id": "4cmGywInIg77"
      },
      "execution_count": 450,
      "outputs": []
    },
    {
      "cell_type": "markdown",
      "source": [
        "**Predict the data set excluding the index column**\n"
      ],
      "metadata": {
        "id": "jA9qJMueTaoK"
      }
    },
    {
      "cell_type": "code",
      "source": [
        "y_predicted = km2.fit_predict(df[['scores','number_skills']])"
      ],
      "metadata": {
        "colab": {
          "base_uri": "https://localhost:8080/"
        },
        "id": "rXmjWReOIjsz",
        "outputId": "ee5d13be-b639-4e95-a743-40486f8557e0"
      },
      "execution_count": 451,
      "outputs": [
        {
          "output_type": "stream",
          "name": "stderr",
          "text": [
            "/usr/local/lib/python3.10/dist-packages/sklearn/cluster/_kmeans.py:870: FutureWarning: The default value of `n_init` will change from 10 to 'auto' in 1.4. Set the value of `n_init` explicitly to suppress the warning\n",
            "  warnings.warn(\n"
          ]
        }
      ]
    },
    {
      "cell_type": "markdown",
      "source": [
        "**Add a column to the data frame to store the predicted cluster ID of each element**"
      ],
      "metadata": {
        "id": "O2xnbrJjTjgr"
      }
    },
    {
      "cell_type": "code",
      "source": [
        "df['cluster'] = y_predicted"
      ],
      "metadata": {
        "id": "l4ms95MnInVX"
      },
      "execution_count": 452,
      "outputs": []
    },
    {
      "cell_type": "markdown",
      "source": [
        "**Define the two data frames, df1, df2 each belonging to one of the two clusters**"
      ],
      "metadata": {
        "id": "nbGGVmMvTp1O"
      }
    },
    {
      "cell_type": "code",
      "source": [
        "df1 = df[df.cluster==0]\n",
        "df2 = df[df.cluster==1]"
      ],
      "metadata": {
        "id": "HGtGYKZtIqAt"
      },
      "execution_count": 453,
      "outputs": []
    },
    {
      "cell_type": "markdown",
      "source": [
        "**Plot the dataframes with different colors to differentiate them along with the centroids.**"
      ],
      "metadata": {
        "id": "P5J1MasgTzDL"
      }
    },
    {
      "cell_type": "code",
      "source": [
        "plt.scatter(df1['scores'], df1['number_skills'], color='green')\n",
        "plt.scatter(df2['scores'], df2['number_skills'], color='red')\n",
        "plt.xlabel('scores')\n",
        "plt.ylabel('number_skills')\n",
        "plt.scatter(km2.cluster_centers_[:,0],km2.cluster_centers_[:,1],color='orange',marker='*',label='centroid')"
      ],
      "metadata": {
        "colab": {
          "base_uri": "https://localhost:8080/",
          "height": 466
        },
        "id": "27txIBnqIvNP",
        "outputId": "d4685457-6986-4c24-d50b-d40b992083f0"
      },
      "execution_count": 454,
      "outputs": [
        {
          "output_type": "execute_result",
          "data": {
            "text/plain": [
              "<matplotlib.collections.PathCollection at 0x7f8dd01b7fd0>"
            ]
          },
          "metadata": {},
          "execution_count": 454
        },
        {
          "output_type": "display_data",
          "data": {
            "text/plain": [
              "<Figure size 640x480 with 1 Axes>"
            ],
            "image/png": "[encoded data removed]"
          },
          "metadata": {}
        }
      ]
    },
    {
      "cell_type": "code",
      "source": [
        "print(df.cluster)"
      ],
      "metadata": {
        "colab": {
          "base_uri": "https://localhost:8080/"
        },
        "id": "ldbHtjEfI9jD",
        "outputId": "9e6e8686-eb4e-4ffd-e0d2-3554f1e63584"
      },
      "execution_count": 455,
      "outputs": [
        {
          "output_type": "stream",
          "name": "stdout",
          "text": [
            "0       0\n",
            "1       1\n",
            "2       1\n",
            "3       1\n",
            "4       0\n",
            "       ..\n",
            "7569    0\n",
            "7570    0\n",
            "7571    0\n",
            "7572    0\n",
            "7573    0\n",
            "Name: cluster, Length: 7574, dtype: int32\n"
          ]
        }
      ]
    }
  ]
}